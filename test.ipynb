{
 "cells": [
  {
   "cell_type": "code",
   "execution_count": 1,
   "metadata": {},
   "outputs": [],
   "source": [
    "from scipy.optimize import fsolve\n",
    "import numpy as np\n",
    "import matplotlib.pyplot as plt"
   ]
  },
  {
   "attachments": {},
   "cell_type": "markdown",
   "metadata": {},
   "source": [
    "InletConditions(F_A0=1075, F_S0=750, F_B0=1275, v_0=250.0, C_A0=4.3, C_B0=5.1, C_S0=3.0, F=3100)"
   ]
  },
  {
   "cell_type": "code",
   "execution_count": 32,
   "metadata": {},
   "outputs": [],
   "source": [
    "def C_A(T):\n",
    "    F = 250\n",
    "    V = 4000\n",
    "    C_A0 = 4.3\n",
    "    C_B0 = 5.1\n",
    "\n",
    "    k_1 = 4e14*np.exp(-1.28e5/8.315/T)\n",
    "    \n",
    "    _f = lambda C_A: F/V*(C_A0-C_A)-k_1*C_A*(C_A+C_B0-C_A0)\n",
    "    _C_A = fsolve(_f, [4.3])\n",
    "    return _C_A[0]\n",
    "\n",
    "def C_S(T):\n",
    "    F = 250\n",
    "    V = 4000\n",
    "    C_S0 = 3\n",
    "\n",
    "    k_2 = 1e84*np.exp(-8e5/8.315/T)\n",
    "\n",
    "    _f = lambda C_S: F/V*(C_S0-C_S)-k_2*C_S\n",
    "    _C_S = fsolve(_f, [3])\n",
    "    return _C_S[0]\n",
    "\n",
    "def R(T):\n",
    "    F = 250\n",
    "    V = 4000\n",
    "    T_0 = 410\n",
    "    U = 14656\n",
    "    A = 5.3\n",
    "    T_c = 373\n",
    "    V = 4000\n",
    "    rho = 12.4\n",
    "    C_P = 254\n",
    "\n",
    "    return -(F/V*(T_0-T)-(U*A*(T-T_c))/(V*rho*C_P))\n",
    "\n",
    "def G(T):\n",
    "    H_1 = -45400\n",
    "    H_2 = -3.2e5\n",
    "    C_A0 = 4.3\n",
    "    C_B0 = 5.1\n",
    "    rho = 12.4\n",
    "    C_P = 254\n",
    "\n",
    "    k_1 = 4e14*np.exp(-1.28e5/8.315/T)\n",
    "    k_2 = 1e84*np.exp(-8e5/8.315/T)\n",
    "\n",
    "    g = (-H_1*k_1*C_A(T)*(C_A(T)+C_B0-C_A0)-H_2*k_2*C_S(T))/(rho*C_P)\n",
    "\n",
    "    return g\n",
    "\n",
    "def dT(T):\n",
    "    return G(T) - R(T)\n"
   ]
  },
  {
   "cell_type": "code",
   "execution_count": 35,
   "metadata": {},
   "outputs": [
    {
     "data": {
      "text/plain": [
       "460.32878421135734"
      ]
     },
     "execution_count": 35,
     "metadata": {},
     "output_type": "execute_result"
    }
   ],
   "source": [
    "T_S = fsolve(dT, [460])[0]\n",
    "\n",
    "T_S"
   ]
  },
  {
   "cell_type": "code",
   "execution_count": 36,
   "metadata": {},
   "outputs": [
    {
     "data": {
      "text/plain": [
       "0.21086752735908276"
      ]
     },
     "execution_count": 36,
     "metadata": {},
     "output_type": "execute_result"
    }
   ],
   "source": [
    "C_A(T_S)"
   ]
  },
  {
   "cell_type": "code",
   "execution_count": 37,
   "metadata": {},
   "outputs": [
    {
     "data": {
      "text/plain": [
       "2.999991854637766"
      ]
     },
     "execution_count": 37,
     "metadata": {},
     "output_type": "execute_result"
    }
   ],
   "source": [
    "C_S(T_S)"
   ]
  },
  {
   "cell_type": "code",
   "execution_count": 31,
   "metadata": {},
   "outputs": [
    {
     "data": {
      "text/plain": [
       "[<matplotlib.lines.Line2D at 0x1e6131ad310>]"
      ]
     },
     "execution_count": 31,
     "metadata": {},
     "output_type": "execute_result"
    },
    {
     "data": {
      "image/png": "[encoded data removed]",
      "text/plain": [
       "<Figure size 640x480 with 1 Axes>"
      ]
     },
     "metadata": {},
     "output_type": "display_data"
    }
   ],
   "source": [
    "T_range = np.linspace(400, 550, 100)\n",
    "\n",
    "g = np.zeros(T_range.shape[0])\n",
    "\n",
    "for i, val in enumerate(T_range):\n",
    "    g[i] = G(val)\n",
    "\n",
    "plt.plot(T_range, g)\n",
    "plt.plot(T_range, R(T_range))"
   ]
  }
 ],
 "metadata": {
  "kernelspec": {
   "display_name": "Python 3",
   "language": "python",
   "name": "python3"
  },
  "language_info": {
   "codemirror_mode": {
    "name": "ipython",
    "version": 3
   },
   "file_extension": ".py",
   "mimetype": "text/x-python",
   "name": "python",
   "nbconvert_exporter": "python",
   "pygments_lexer": "ipython3",
   "version": "3.11.0"
  },
  "orig_nbformat": 4
 },
 "nbformat": 4,
 "nbformat_minor": 2
}
