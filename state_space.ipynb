{
 "cells": [
  {
   "cell_type": "code",
   "execution_count": 91,
   "metadata": {},
   "outputs": [],
   "source": [
    "# imports\n",
    "from sympy import diff, symbols, exp, Eq, solve, lambdify\n",
    "from sympy.abc import t, s\n",
    "import sympy\n",
    "\n",
    "import numpy as np\n",
    "import matplotlib.pyplot as plt\n",
    "\n",
    "from scipy.optimize import fsolve\n",
    "from dataclasses import dataclass, field\n",
    "\n",
    "import control"
   ]
  },
  {
   "attachments": {},
   "cell_type": "markdown",
   "metadata": {},
   "source": [
    "# State Space Model:\n",
    "\n",
    "$$\\frac{dC_A}{dt}=\\frac{F}{V}\\left(C_{A0}-C_A\\right)-k_1(T)C_A\\left(C_A+C_{B0}-C_{A0}\\right)$$\n",
    "\n",
    "$$\\frac{dC_S}{dt}=\\frac{F}{V}\\left(C_{S0}-C_S\\right)-k_2(T)C_S$$\n",
    "\n",
    "$$\\frac{dT}{dt}=\\frac{F}{V}\\left(T_0-T\\right)+\\frac{-\\Delta H_1k_1(T)C_A\\left(C_A+C_{B0}-C_{A0}\\right)-\\Delta H_2k_2(T)C_S}{\\rho C_p}-\\frac{UA\\left(T-T_c\\right)}{V\\rho C_p}$$"
   ]
  },
  {
   "attachments": {},
   "cell_type": "markdown",
   "metadata": {},
   "source": [
    "## Define symbolic state space"
   ]
  },
  {
   "cell_type": "code",
   "execution_count": 2,
   "metadata": {},
   "outputs": [],
   "source": [
    "# define symbolic state space equations\n",
    "F, V, C_A0, C_A, k_1, T, C_A, C_B0, k_10, R, E_1, E_2, C_S0, C_S, E_2, k_20, H_1, H_2, T_0, T_c, UA, rho, C_p = symbols('F, V, C_A0, C_A, k_1, T, C_A, C_B0, k_10, R, E_1, E_2, C_S0, C_S, E_2, k_20, H_1, H_2, T_0, T_c, UA, rho, C_p')\n",
    "\n",
    "C_As, C_Bs, C_Cs, C_Ss = symbols('C_As, C_Bs, C_Cs, C_Ss')\n",
    "\n",
    "k_1 = k_10 * exp(-E_1 / T / R)\n",
    "k_2 = k_20 * exp(-E_2 / T / R)\n",
    "\n",
    "f_C_A = F / V * (C_A0 - C_A) - k_1 * C_A * (C_A + C_B0 - C_A0)\n",
    "\n",
    "f_C_S = F / V * (C_S0 - C_S) - k_2 * C_S\n",
    "\n",
    "f_T = F / V * (T_0 - T) + (-H_1 * k_1 * C_A * (C_A + C_B0 - C_A0) - H_2 * k_2 * C_S) / (rho * C_p) - (UA * (T - T_c)) / (V * rho * C_p)"
   ]
  },
  {
   "attachments": {},
   "cell_type": "markdown",
   "metadata": {},
   "source": [
    "### Verify Equations"
   ]
  },
  {
   "cell_type": "code",
   "execution_count": 3,
   "metadata": {},
   "outputs": [
    {
     "data": {
      "text/latex": [
       "$\\displaystyle - C_{A} k_{10} \\left(C_{A} - C_{A0} + C_{B0}\\right) e^{- \\frac{E_{1}}{R T}} + \\frac{F \\left(- C_{A} + C_{A0}\\right)}{V}$"
      ],
      "text/plain": [
       "-C_A*k_10*(C_A - C_A0 + C_B0)*exp(-E_1/(R*T)) + F*(-C_A + C_A0)/V"
      ]
     },
     "execution_count": 3,
     "metadata": {},
     "output_type": "execute_result"
    }
   ],
   "source": [
    "f_C_A"
   ]
  },
  {
   "cell_type": "code",
   "execution_count": 4,
   "metadata": {},
   "outputs": [
    {
     "data": {
      "text/latex": [
       "$\\displaystyle - C_{S} k_{20} e^{- \\frac{E_{2}}{R T}} + \\frac{F \\left(- C_{S} + C_{S0}\\right)}{V}$"
      ],
      "text/plain": [
       "-C_S*k_20*exp(-E_2/(R*T)) + F*(-C_S + C_S0)/V"
      ]
     },
     "execution_count": 4,
     "metadata": {},
     "output_type": "execute_result"
    }
   ],
   "source": [
    "f_C_S"
   ]
  },
  {
   "cell_type": "code",
   "execution_count": 5,
   "metadata": {},
   "outputs": [
    {
     "data": {
      "text/latex": [
       "$\\displaystyle \\frac{F \\left(- T + T_{0}\\right)}{V} - \\frac{UA \\left(T - T_{c}\\right)}{C_{p} V \\rho} + \\frac{- C_{A} H_{1} k_{10} \\left(C_{A} - C_{A0} + C_{B0}\\right) e^{- \\frac{E_{1}}{R T}} - C_{S} H_{2} k_{20} e^{- \\frac{E_{2}}{R T}}}{C_{p} \\rho}$"
      ],
      "text/plain": [
       "F*(-T + T_0)/V - UA*(T - T_c)/(C_p*V*rho) + (-C_A*H_1*k_10*(C_A - C_A0 + C_B0)*exp(-E_1/(R*T)) - C_S*H_2*k_20*exp(-E_2/(R*T)))/(C_p*rho)"
      ]
     },
     "execution_count": 5,
     "metadata": {},
     "output_type": "execute_result"
    }
   ],
   "source": [
    "f_T"
   ]
  },
  {
   "attachments": {},
   "cell_type": "markdown",
   "metadata": {},
   "source": [
    "# Define system paramters"
   ]
  },
  {
   "attachments": {},
   "cell_type": "markdown",
   "metadata": {},
   "source": [
    "## Classes that define the system"
   ]
  },
  {
   "cell_type": "code",
   "execution_count": 6,
   "metadata": {},
   "outputs": [],
   "source": [
    "# system classes\n",
    "@dataclass\n",
    "class SystemParameters():\n",
    "    k_10: float\n",
    "    E_1: float \n",
    "    k_20: float\n",
    "    E_2: float\n",
    "    H_1: float\n",
    "    H_2: float\n",
    "    rho: float\n",
    "    C_p: float\n",
    "    A: float\n",
    "    T_c: float\n",
    "    V: float\n",
    "\n",
    "@dataclass\n",
    "class InletConditions():\n",
    "    F_A0: float\n",
    "    F_S0: float\n",
    "    F_B0: float\n",
    "    v_0: float = field(init=False)\n",
    "    C_A0: float = field(init=False)\n",
    "    C_B0: float = field(init=False)\n",
    "    C_S0: float = field(init=False)\n",
    "    F: float = field(init=False)\n",
    "\n",
    "    def __post_init__(self):\n",
    "        self.F = self.F_A0 + self.F_B0 + self.F_S0\n",
    "\n",
    "@dataclass\n",
    "class SteadyState():\n",
    "    U_s: float\n",
    "    T_0s: float\n",
    "    C_As: float = field(init=False)\n",
    "    C_Ss: float = field(init=False)\n",
    "    T_s: float = field(init=False)"
   ]
  },
  {
   "attachments": {},
   "cell_type": "markdown",
   "metadata": {},
   "source": [
    "## Initilize classes with given parameters"
   ]
  },
  {
   "cell_type": "code",
   "execution_count": 7,
   "metadata": {},
   "outputs": [],
   "source": [
    "# initialize system classes\n",
    "System_Params = SystemParameters(**{\n",
    "    \"k_10\": 4e14,\n",
    "    \"E_1\": 1.28e5,  \n",
    "    \"k_20\": 1e84,\n",
    "    \"E_2\": 8e5,\n",
    "    \"H_1\": -45400,\n",
    "    \"H_2\": -3.2e5,\n",
    "    \"rho\": 12.4,\n",
    "    \"C_p\": 254,\n",
    "    \"A\": 5.3,\n",
    "    \"T_c\": 373,\n",
    "    \"V\": 4000,\n",
    "})\n",
    "\n",
    "Inlet_Conds = InletConditions(**{\n",
    "    \"F_A0\": 1075,\n",
    "    \"F_S0\": 750,\n",
    "    \"F_B0\": 1275,\n",
    "})\n",
    "\n",
    "Inlet_Conds.v_0 = Inlet_Conds.F / System_Params.rho\n",
    "Inlet_Conds.C_A0 = Inlet_Conds.F_A0 / Inlet_Conds.v_0\n",
    "Inlet_Conds.C_B0 = Inlet_Conds.F_B0 / Inlet_Conds.v_0\n",
    "Inlet_Conds.C_S0 = Inlet_Conds.F_S0 / Inlet_Conds.v_0\n",
    "\n",
    "Steady_States = SteadyState(**{\n",
    "    \"U_s\": 14.656e3,\n",
    "    \"T_0s\": 410,\n",
    "})"
   ]
  },
  {
   "cell_type": "code",
   "execution_count": 10,
   "metadata": {},
   "outputs": [
    {
     "data": {
      "text/plain": [
       "InletConditions(F_A0=1075, F_S0=750, F_B0=1275, v_0=250.0, C_A0=4.3, C_B0=5.1, C_S0=3.0, F=3100)"
      ]
     },
     "execution_count": 10,
     "metadata": {},
     "output_type": "execute_result"
    }
   ],
   "source": [
    "Inlet_Conds"
   ]
  },
  {
   "attachments": {},
   "cell_type": "markdown",
   "metadata": {},
   "source": [
    "## Substitue parameters into state space"
   ]
  },
  {
   "cell_type": "code",
   "execution_count": 80,
   "metadata": {},
   "outputs": [],
   "source": [
    "# substitute system paramters into state space\n",
    "f_C_A_subbed = f_C_A.subs({\n",
    "    C_A0: Inlet_Conds.C_A0,\n",
    "    k_10: System_Params.k_10,\n",
    "    R: 8.314,\n",
    "    F: Inlet_Conds.v_0,\n",
    "    V: System_Params.V,\n",
    "    E_1: System_Params.E_1,\n",
    "    C_B0: Inlet_Conds.C_B0,\n",
    "})\n",
    "\n",
    "f_C_S_subbed = f_C_S.subs({\n",
    "    C_A0: Inlet_Conds.C_A0,\n",
    "    k_10: System_Params.k_10,\n",
    "    R: 8.314,\n",
    "    F: Inlet_Conds.v_0,\n",
    "    V: System_Params.V,\n",
    "    E_2: System_Params.E_2,\n",
    "    C_S0: Inlet_Conds.C_S0,\n",
    "    k_20: System_Params.k_20,\n",
    "    C_B0: Inlet_Conds.C_B0,\n",
    "})\n",
    "\n",
    "f_T_subbed = f_T.subs({\n",
    "    C_A0: Inlet_Conds.C_A0,\n",
    "    k_10: System_Params.k_10,\n",
    "    R: 8.314,\n",
    "    F: Inlet_Conds.v_0,\n",
    "    V: System_Params.V,\n",
    "    E_1: System_Params.E_1,\n",
    "    E_2: System_Params.E_2,\n",
    "    C_S0: Inlet_Conds.C_S0,\n",
    "    k_20: System_Params.k_20,\n",
    "    UA: Steady_States.U_s * System_Params.A,\n",
    "    T_c: System_Params.T_c,\n",
    "    H_1: System_Params.H_1,\n",
    "    H_2: System_Params.H_2,\n",
    "    C_p: System_Params.C_p, \n",
    "    rho: System_Params.rho,\n",
    "    C_B0: Inlet_Conds.C_B0,\n",
    "})"
   ]
  },
  {
   "cell_type": "code",
   "execution_count": 81,
   "metadata": {},
   "outputs": [
    {
     "data": {
      "text/latex": [
       "$\\displaystyle - 400000000000000.0 C_{A} \\left(C_{A} + 0.8\\right) e^{- \\frac{15395.7180659129}{T}} - 0.0625 C_{A} + 0.26875$"
      ],
      "text/plain": [
       "-400000000000000.0*C_A*(C_A + 0.8)*exp(-15395.7180659129/T) - 0.0625*C_A + 0.26875"
      ]
     },
     "execution_count": 81,
     "metadata": {},
     "output_type": "execute_result"
    }
   ],
   "source": [
    "f_C_A_subbed"
   ]
  },
  {
   "cell_type": "code",
   "execution_count": 82,
   "metadata": {},
   "outputs": [
    {
     "data": {
      "text/latex": [
       "$\\displaystyle - 0.0625 C_{S} - 1.0 \\cdot 10^{84} C_{S} e^{- \\frac{96223.2379119557}{T}} + 0.1875$"
      ],
      "text/plain": [
       "-0.0625*C_S - 1.0e+84*C_S*exp(-96223.2379119557/T) + 0.1875"
      ]
     },
     "execution_count": 82,
     "metadata": {},
     "output_type": "execute_result"
    }
   ],
   "source": [
    "f_C_S_subbed"
   ]
  },
  {
   "cell_type": "code",
   "execution_count": 83,
   "metadata": {},
   "outputs": [
    {
     "data": {
      "text/latex": [
       "$\\displaystyle 5.76581153162306 \\cdot 10^{15} C_{A} \\left(C_{A} + 0.8\\right) e^{- \\frac{15395.7180659129}{T}} + 1.01600203200406 \\cdot 10^{86} C_{S} e^{- \\frac{96223.2379119557}{T}} - 0.0686656083312167 T + 0.0625 T_{0} + 2.29977190754382$"
      ],
      "text/plain": [
       "5.76581153162306e+15*C_A*(C_A + 0.8)*exp(-15395.7180659129/T) + 1.01600203200406e+86*C_S*exp(-96223.2379119557/T) - 0.0686656083312167*T + 0.0625*T_0 + 2.29977190754382"
      ]
     },
     "execution_count": 83,
     "metadata": {},
     "output_type": "execute_result"
    }
   ],
   "source": [
    "f_T_subbed"
   ]
  },
  {
   "attachments": {},
   "cell_type": "markdown",
   "metadata": {},
   "source": [
    "# Evaluate steady state"
   ]
  },
  {
   "cell_type": "code",
   "execution_count": 84,
   "metadata": {},
   "outputs": [],
   "source": [
    "def solve_C_A(_T):\n",
    "    _f = lambdify(C_A, f_C_A_subbed.subs({T: _T}), 'numpy')\n",
    "    _C_A = fsolve(_f, [4])\n",
    "\n",
    "    return _C_A[0]\n",
    "\n",
    "def solve_C_S(_T):\n",
    "    _f = lambdify(C_S, f_C_S_subbed.subs({T: _T}), 'numpy')\n",
    "    _C_S = fsolve(_f, [4])\n",
    "\n",
    "    return _C_S[0]\n",
    "\n",
    "def solve_heat(_T):\n",
    "    _C_A = solve_C_A(_T)\n",
    "    _C_S = solve_C_S(_T)\n",
    "    __f = f_T_subbed.subs({C_A: _C_A, C_S: _C_S, T_0: Steady_States.T_0s})\n",
    "    _f = lambdify(T, __f, 'numpy')\n",
    "    return _f(_T)\n",
    "\n",
    "def root_solve(f, x0):\n",
    "    x_n = x0\n",
    "    for _ in range(100):\n",
    "        dx = 1e-12\n",
    "        diff = (f(x_n + dx) - f(x_n)) / dx\n",
    "        x_n = x_n - f(x_n) / diff\n",
    "\n",
    "        if np.abs(diff) < 1e-10:\n",
    "            break\n",
    "\n",
    "    return x_n\n",
    "\n",
    "Steady_States.T_s = root_solve(solve_heat, 460)"
   ]
  },
  {
   "cell_type": "code",
   "execution_count": 85,
   "metadata": {},
   "outputs": [
    {
     "data": {
      "text/plain": [
       "SteadyState(U_s=14656.0, T_0s=410, C_As=0.2116701379629191, C_Ss=2.9999920948240835, T_s=460.3182315699554)"
      ]
     },
     "execution_count": 85,
     "metadata": {},
     "output_type": "execute_result"
    }
   ],
   "source": [
    "# save steady states\n",
    "Steady_States.C_As = solve_C_A(Steady_States.T_s)\n",
    "Steady_States.C_Ss = solve_C_S(Steady_States.T_s)\n",
    "Steady_States"
   ]
  },
  {
   "attachments": {},
   "cell_type": "markdown",
   "metadata": {},
   "source": [
    "# Steady state conversion"
   ]
  },
  {
   "cell_type": "code",
   "execution_count": 86,
   "metadata": {},
   "outputs": [
    {
     "data": {
      "text/plain": [
       "0.9507743865202514"
      ]
     },
     "execution_count": 86,
     "metadata": {},
     "output_type": "execute_result"
    }
   ],
   "source": [
    "# A conversion\n",
    "1 - Steady_States.C_As / Inlet_Conds.C_A0"
   ]
  },
  {
   "cell_type": "code",
   "execution_count": 87,
   "metadata": {},
   "outputs": [
    {
     "data": {
      "text/plain": [
       "2.6350586388446118e-06"
      ]
     },
     "execution_count": 87,
     "metadata": {},
     "output_type": "execute_result"
    }
   ],
   "source": [
    "# S conversion\n",
    "1 - Steady_States.C_Ss / Inlet_Conds.C_S0"
   ]
  },
  {
   "attachments": {},
   "cell_type": "markdown",
   "metadata": {},
   "source": [
    "### Linearization"
   ]
  },
  {
   "cell_type": "code",
   "execution_count": 88,
   "metadata": {},
   "outputs": [],
   "source": [
    "# linear matrices\n",
    "A = sympy.matrices.Matrix([\n",
    "    [\n",
    "        f_C_A_subbed.diff(C_A).subs({C_A: Steady_States.C_As, C_S: Steady_States.C_Ss, T: Steady_States.T_s}), \n",
    "        f_C_A_subbed.diff(C_S).subs({C_A: Steady_States.C_As, C_S: Steady_States.C_Ss, T: Steady_States.T_s}), \n",
    "        f_C_A_subbed.diff(T).subs({C_A: Steady_States.C_As, C_S: Steady_States.C_Ss, T: Steady_States.T_s})\n",
    "    ],\n",
    "    [\n",
    "        f_C_S_subbed.diff(C_A).subs({C_A: Steady_States.C_As, C_S: Steady_States.C_Ss, T: Steady_States.T_s}), \n",
    "        f_C_S_subbed.diff(C_S).subs({C_A: Steady_States.C_As, C_S: Steady_States.C_Ss, T: Steady_States.T_s}), \n",
    "        f_C_S_subbed.diff(T).subs({C_A: Steady_States.C_As, C_S: Steady_States.C_Ss, T: Steady_States.T_s})\n",
    "    ],\n",
    "    [\n",
    "        f_T_subbed.diff(C_A).subs({C_A: Steady_States.C_As, C_S: Steady_States.C_Ss, T: Steady_States.T_s}), \n",
    "        f_T_subbed.diff(C_S).subs({C_A: Steady_States.C_As, C_S: Steady_States.C_Ss, T: Steady_States.T_s}), \n",
    "        f_T_subbed.diff(T).subs({C_A: Steady_States.C_As, C_S: Steady_States.C_Ss, T: Steady_States.T_s})\n",
    "    ],\n",
    "])\n",
    "\n",
    "b = sympy.matrices.Matrix([\n",
    "    [f_C_A_subbed.diff(T_0).subs({C_A: Steady_States.C_As, C_S: Steady_States.C_Ss, T: Steady_States.T_s})],\n",
    "    [f_C_S_subbed.diff(T_0).subs({C_A: Steady_States.C_As, C_S: Steady_States.C_Ss, T: Steady_States.T_s})],\n",
    "    [f_T_subbed.diff(T_0).subs({C_A: Steady_States.C_As, C_S: Steady_States.C_Ss, T: Steady_States.T_s})],\n",
    "])\n",
    "\n",
    "c = sympy.matrices.Matrix([\n",
    "    [0, 0, 1],\n",
    "])\n",
    "\n",
    "d = 0\n",
    "\n",
    "state_vector = sympy.matrices.Matrix([\n",
    "    [C_A],\n",
    "    [C_S],\n",
    "    [T],\n",
    "])"
   ]
  },
  {
   "cell_type": "code",
   "execution_count": 101,
   "metadata": {},
   "outputs": [
    {
     "data": {
      "text/latex": [
       "$\\displaystyle \\left[\\begin{matrix}-1.52223727109086 & 0 & -0.0185656237024397\\\\0 & -0.0625001646915989 & -2.24365031604688 \\cdot 10^{-7}\\\\21.0414249769892 & 1.67326999164773 \\cdot 10^{-5} & 0.198971905289839\\end{matrix}\\right]$"
      ],
      "text/plain": [
       "Matrix([\n",
       "[-1.52223727109086,                   0,  -0.0185656237024397],\n",
       "[                0, -0.0625001646915989, -2.24365031604688e-7],\n",
       "[ 21.0414249769892, 1.67326999164773e-5,    0.198971905289839]])"
      ]
     },
     "execution_count": 101,
     "metadata": {},
     "output_type": "execute_result"
    }
   ],
   "source": [
    "A"
   ]
  },
  {
   "cell_type": "code",
   "execution_count": 90,
   "metadata": {},
   "outputs": [
    {
     "data": {
      "text/latex": [
       "$\\displaystyle \\left[\\begin{matrix}0\\\\0\\\\0.0625\\end{matrix}\\right]$"
      ],
      "text/plain": [
       "Matrix([\n",
       "[     0],\n",
       "[     0],\n",
       "[0.0625]])"
      ]
     },
     "execution_count": 90,
     "metadata": {},
     "output_type": "execute_result"
    }
   ],
   "source": [
    "b"
   ]
  },
  {
   "cell_type": "code",
   "execution_count": 102,
   "metadata": {},
   "outputs": [
    {
     "data": {
      "text/latex": [
       "$\\displaystyle \\left[\\begin{matrix}0 & 0 & 1\\end{matrix}\\right]$"
      ],
      "text/plain": [
       "Matrix([[0, 0, 1]])"
      ]
     },
     "execution_count": 102,
     "metadata": {},
     "output_type": "execute_result"
    }
   ],
   "source": [
    "c"
   ]
  },
  {
   "attachments": {},
   "cell_type": "markdown",
   "metadata": {},
   "source": [
    "$$G(s)=c\\left(sI-A\\right)^{-1}+d$$"
   ]
  },
  {
   "cell_type": "code",
   "execution_count": 99,
   "metadata": {},
   "outputs": [
    {
     "data": {
      "text/latex": [
       "$\\displaystyle \\frac{0.0625 \\cdot \\left(1.0 s^{2} + 1.58473743578246 s + 0.0951400801428692\\right)}{1.0 s^{3} + 1.38576553049263 s^{2} + 0.170469031450751 s + 0.00548530996943723}$"
      ],
      "text/plain": [
       "0.0625*(1.0*s**2 + 1.58473743578246*s + 0.0951400801428692)/(1.0*s**3 + 1.38576553049263*s**2 + 0.170469031450751*s + 0.00548530996943723)"
      ]
     },
     "execution_count": 99,
     "metadata": {},
     "output_type": "execute_result"
    }
   ],
   "source": [
    "(c * (s * sympy.matrices.eye(3) - A)**-1 * b + sympy.matrices.Matrix([d]))[0]"
   ]
  }
 ],
 "metadata": {
  "kernelspec": {
   "display_name": "Python 3",
   "language": "python",
   "name": "python3"
  },
  "language_info": {
   "codemirror_mode": {
    "name": "ipython",
    "version": 3
   },
   "file_extension": ".py",
   "mimetype": "text/x-python",
   "name": "python",
   "nbconvert_exporter": "python",
   "pygments_lexer": "ipython3",
   "version": "3.11.0"
  },
  "orig_nbformat": 4
 },
 "nbformat": 4,
 "nbformat_minor": 2
}
