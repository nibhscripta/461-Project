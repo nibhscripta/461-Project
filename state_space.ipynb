{
 "cells": [
  {
   "cell_type": "code",
   "execution_count": 1,
   "metadata": {},
   "outputs": [],
   "source": [
    "# imports\n",
    "from sympy import diff, symbols, exp, Eq, solve, lambdify\n",
    "from sympy.abc import t, s\n",
    "import sympy\n",
    "\n",
    "import numpy as np\n",
    "import matplotlib.pyplot as plt\n",
    "\n",
    "from scipy.optimize import fsolve\n",
    "from dataclasses import dataclass, field\n",
    "\n",
    "import control\n",
    "import json"
   ]
  },
  {
   "attachments": {},
   "cell_type": "markdown",
   "metadata": {},
   "source": [
    "# State Space Model:\n",
    "\n",
    "$$\\frac{dC_A}{dt}=\\frac{F}{V}\\left(C_{A0}-C_A\\right)-k_1(T)C_A\\left(C_A+C_{B0}-C_{A0}\\right)$$\n",
    "\n",
    "$$\\frac{dC_S}{dt}=\\frac{F}{V}\\left(C_{S0}-C_S\\right)-k_2(T)C_S$$\n",
    "\n",
    "$$\\frac{dT}{dt}=\\frac{F}{V}\\left(T_0-T\\right)+\\frac{-\\Delta H_1k_1(T)C_A\\left(C_A+C_{B0}-C_{A0}\\right)-\\Delta H_2k_2(T)C_S}{\\rho C_p}-\\frac{UA\\left(T-T_c\\right)}{V\\rho C_p}$$"
   ]
  },
  {
   "attachments": {},
   "cell_type": "markdown",
   "metadata": {},
   "source": [
    "## System Parameters"
   ]
  },
  {
   "cell_type": "code",
   "execution_count": 2,
   "metadata": {},
   "outputs": [],
   "source": [
    "# params\n",
    "k_10 = 4e14\n",
    "E_1 = 1.28e5  \n",
    "k_20 = 1e84\n",
    "E_2 = 8e5\n",
    "H_1 = -45400\n",
    "H_2 = -3.2e5\n",
    "rho = 12.4\n",
    "C_p = 254\n",
    "A = 5.3\n",
    "T_c = 373\n",
    "V = 4000\n",
    "\n",
    "F_A0 = 1075\n",
    "F_S0 = 750\n",
    "F_B0 = 1275\n",
    "\n",
    "F = F_A0 + F_B0 + F_S0\n",
    "\n",
    "v_0 = F / rho\n",
    "C_A0 = F_A0 / v_0\n",
    "C_B0 = F_B0 / v_0\n",
    "C_S0 = F_S0 / v_0\n",
    "\n",
    "U_s = 14.656e3\n",
    "T_0s = 410\n",
    "\n",
    "R = 8.314"
   ]
  },
  {
   "attachments": {},
   "cell_type": "markdown",
   "metadata": {},
   "source": [
    "## Symbolic Equation definitions"
   ]
  },
  {
   "cell_type": "code",
   "execution_count": 3,
   "metadata": {},
   "outputs": [],
   "source": [
    "# define symbolic state space equations\n",
    "C_A, C_A, C_S, T, T_0, U = symbols('C_A, C_A, C_S, T, T_0, U')\n",
    "\n",
    "k_1 = k_10 * exp(-E_1 / T / R)\n",
    "k_2 = k_20 * exp(-E_2 / T / R)\n",
    "\n",
    "f_C_A = v_0 / V * (C_A0 - C_A) - k_1 * C_A * (C_A + C_B0 - C_A0)\n",
    "\n",
    "f_C_S = v_0 / V * (C_S0 - C_S) - k_2 * C_S\n",
    "\n",
    "f_T = v_0 / V * (T_0 - T) + (-H_1 * k_1 * C_A * (C_A + C_B0 - C_A0) - H_2 * k_2 * C_S) / (rho * C_p) - (U * A * (T - T_c)) / (V * rho * C_p)"
   ]
  },
  {
   "attachments": {},
   "cell_type": "markdown",
   "metadata": {},
   "source": [
    "# Steady State Evaluation"
   ]
  },
  {
   "cell_type": "code",
   "execution_count": 4,
   "metadata": {},
   "outputs": [],
   "source": [
    "# functions\n",
    "def solve_C_A(_T):\n",
    "    _f = lambdify(C_A, f_C_A.subs({T: _T}), 'numpy')\n",
    "    _C_A = fsolve(_f, [4])\n",
    "\n",
    "    return _C_A[0]\n",
    "\n",
    "def solve_C_S(_T):\n",
    "    _f = lambdify(C_S, f_C_S.subs({T: _T}), 'numpy')\n",
    "    _C_S = fsolve(_f, [4])\n",
    "\n",
    "    return _C_S[0]\n",
    "\n",
    "def solve_heat(_T):\n",
    "    _C_A = solve_C_A(_T)\n",
    "    _C_S = solve_C_S(_T)\n",
    "    __f = f_T.subs({C_A: _C_A, C_S: _C_S, T_0: T_0s, U: U_s})\n",
    "    _f = lambdify(T, __f, 'numpy')\n",
    "    return _f(_T)\n",
    "\n",
    "def root_solve(f, x0):\n",
    "    x_n = x0\n",
    "    for _ in range(100):\n",
    "        dx = 1e-12\n",
    "        diff = (f(x_n + dx) - f(x_n)) / dx\n",
    "        x_n = x_n - f(x_n) / diff\n",
    "\n",
    "        if np.abs(diff) < 1e-10:\n",
    "            break\n",
    "\n",
    "    return x_n"
   ]
  },
  {
   "cell_type": "code",
   "execution_count": 5,
   "metadata": {},
   "outputs": [
    {
     "data": {
      "text/plain": [
       "460.3182315699554"
      ]
     },
     "execution_count": 5,
     "metadata": {},
     "output_type": "execute_result"
    }
   ],
   "source": [
    "# T_s evaluation\n",
    "T_s = root_solve(solve_heat, 460)\n",
    "\n",
    "T_s"
   ]
  },
  {
   "attachments": {},
   "cell_type": "markdown",
   "metadata": {},
   "source": [
    "## Steady State Concentrations"
   ]
  },
  {
   "cell_type": "code",
   "execution_count": 6,
   "metadata": {},
   "outputs": [
    {
     "data": {
      "text/plain": [
       "(0.2116701379629191, 2.9999920948240835)"
      ]
     },
     "execution_count": 6,
     "metadata": {},
     "output_type": "execute_result"
    }
   ],
   "source": [
    "# steady state outlet\n",
    "C_As = solve_C_A(T_s)\n",
    "C_Ss = solve_C_S(T_s)\n",
    "C_As, C_Ss"
   ]
  },
  {
   "attachments": {},
   "cell_type": "markdown",
   "metadata": {},
   "source": [
    "## Steady state conversion"
   ]
  },
  {
   "cell_type": "code",
   "execution_count": 7,
   "metadata": {},
   "outputs": [
    {
     "data": {
      "text/plain": [
       "0.9507743865202514"
      ]
     },
     "execution_count": 7,
     "metadata": {},
     "output_type": "execute_result"
    }
   ],
   "source": [
    "# A conversion\n",
    "1 - C_As / C_A0"
   ]
  },
  {
   "cell_type": "code",
   "execution_count": 8,
   "metadata": {},
   "outputs": [
    {
     "data": {
      "text/plain": [
       "2.6350586388446118e-06"
      ]
     },
     "execution_count": 8,
     "metadata": {},
     "output_type": "execute_result"
    }
   ],
   "source": [
    "# S conversion\n",
    "1 - C_Ss / C_S0"
   ]
  },
  {
   "attachments": {},
   "cell_type": "markdown",
   "metadata": {},
   "source": [
    "# Linearization"
   ]
  },
  {
   "cell_type": "code",
   "execution_count": 9,
   "metadata": {},
   "outputs": [],
   "source": [
    "# linear matrices\n",
    "A = sympy.matrices.Matrix([\n",
    "    [\n",
    "        f_C_A.diff(C_A).subs({C_A: C_As, T: T_s}), \n",
    "        f_C_A.diff(C_S).subs({C_A: C_As, T: T_s}), \n",
    "        f_C_A.diff(T).subs({C_A: C_As, T: T_s}),\n",
    "    ],\n",
    "    [\n",
    "        f_C_S.diff(C_A).subs({C_S: C_Ss, T: T_s}), \n",
    "        f_C_S.diff(C_S).subs({C_S: C_Ss, T: T_s}), \n",
    "        f_C_S.diff(T).subs({C_S: C_Ss, T: T_s}),\n",
    "    ],\n",
    "    [\n",
    "        f_T.diff(C_A).subs({C_A: C_As, C_S: C_Ss, T: T_s, U: U_s, T_0: T_0s}), \n",
    "        f_T.diff(C_S).subs({C_A: C_As, C_S: C_Ss, T: T_s, U: U_s, T_0: T_0s}), \n",
    "        f_T.diff(T).subs({C_A: C_As, C_S: C_Ss, T: T_s, U: U_s, T_0: T_0s}),\n",
    "    ],\n",
    "])\n",
    "\n",
    "b = sympy.matrices.Matrix([\n",
    "    [f_C_A.diff(U).subs({C_A: C_As, T: T_s})],\n",
    "    [f_C_S.diff(U).subs({C_S: C_Ss, T: T_s})],\n",
    "    [f_T.diff(U).subs({C_A: C_As, C_S: C_Ss, T: T_s, U: U_s, T_0: T_0s})],\n",
    "\n",
    "])\n",
    "\n",
    "c = sympy.matrices.Matrix([\n",
    "    [0, 0, 1],\n",
    "])\n",
    "\n",
    "d = 0\n",
    "\n",
    "state_vector = sympy.matrices.Matrix([\n",
    "    [C_A],\n",
    "    [C_S],\n",
    "    [T],\n",
    "])"
   ]
  },
  {
   "attachments": {},
   "cell_type": "markdown",
   "metadata": {},
   "source": [
    "## Linear Transfer Function\n",
    "\n",
    "$$G(s)=c\\left(sI-A\\right)^{-1}+d$$"
   ]
  },
  {
   "cell_type": "code",
   "execution_count": 10,
   "metadata": {},
   "outputs": [
    {
     "data": {
      "text/latex": [
       "$\\displaystyle - \\frac{3.67337620111097 \\cdot 10^{-5} \\cdot \\left(1.0 s^{2} + 1.58473743578246 s + 0.0951400801428692\\right)}{1.0 s^{3} + 1.38576553049263 s^{2} + 0.170469031450751 s + 0.00548530996943723}$"
      ],
      "text/plain": [
       "-3.67337620111097e-5*(1.0*s**2 + 1.58473743578246*s + 0.0951400801428692)/(1.0*s**3 + 1.38576553049263*s**2 + 0.170469031450751*s + 0.00548530996943723)"
      ]
     },
     "execution_count": 10,
     "metadata": {},
     "output_type": "execute_result"
    }
   ],
   "source": [
    "# Trandfer function\n",
    "(c * (s * sympy.matrices.eye(3) - A)**-1 * b + sympy.matrices.Matrix([d]))[0]"
   ]
  },
  {
   "cell_type": "code",
   "execution_count": 11,
   "metadata": {},
   "outputs": [],
   "source": [
    "system_parameter_dict = {\n",
    "    'parameters': {\n",
    "        'k_10': 4e14,\n",
    "        'E_1': 1.28e5,  \n",
    "        'k_20': 1e84,\n",
    "        'E_2': 8e5,\n",
    "        'H_1': -45400,\n",
    "        'H_2': -3.2e5,\n",
    "        'rho': 12.4,\n",
    "        'C_p': 254,\n",
    "        'A': 5.3,\n",
    "        'T_c': 373,\n",
    "        'V': 4000,\n",
    "    },\n",
    "    'inlet': {\n",
    "        'F_A0': 1075,\n",
    "        'F_S0': 750,\n",
    "        'F_B0': 1275,\n",
    "        'F': F,\n",
    "        'v_0': v_0,\n",
    "        'C_A0': C_A0, \n",
    "        'C_B0': C_B0, \n",
    "        'C_S0': C_S0, \n",
    "    },\n",
    "    'steady_state': {\n",
    "        'T_0': T_0s,\n",
    "        'U': U_s,\n",
    "        'T': T_s,\n",
    "        'C_A': C_As,\n",
    "        'C_S': C_Ss,\n",
    "    },\n",
    "    'state_space': {\n",
    "        'A': np.array(A, dtype=float).tolist(),\n",
    "        'b': np.array(b, dtype=float).tolist(),\n",
    "        'c': np.array(c, dtype=float).tolist(),\n",
    "        'd': d,\n",
    "    }\n",
    "}"
   ]
  },
  {
   "cell_type": "code",
   "execution_count": 12,
   "metadata": {},
   "outputs": [],
   "source": [
    "with open('system_parameter_dict.json', 'w') as _write_file:\n",
    "    json.dump(system_parameter_dict, _write_file, indent=4)"
   ]
  }
 ],
 "metadata": {
  "kernelspec": {
   "display_name": "Python 3",
   "language": "python",
   "name": "python3"
  },
  "language_info": {
   "codemirror_mode": {
    "name": "ipython",
    "version": 3
   },
   "file_extension": ".py",
   "mimetype": "text/x-python",
   "name": "python",
   "nbconvert_exporter": "python",
   "pygments_lexer": "ipython3",
   "version": "3.11.0"
  },
  "orig_nbformat": 4
 },
 "nbformat": 4,
 "nbformat_minor": 2
}
