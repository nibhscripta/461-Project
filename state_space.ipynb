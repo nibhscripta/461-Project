{
 "cells": [
  {
   "cell_type": "code",
   "execution_count": 1,
   "metadata": {},
   "outputs": [],
   "source": [
    "# imports\n",
    "from sympy import diff, symbols, exp, Eq, solve\n",
    "from sympy.abc import t\n",
    "import sympy\n",
    "\n",
    "import numpy as np\n",
    "import matplotlib.pyplot as plt\n",
    "\n",
    "from scipy.optimize import fsolve\n",
    "from dataclasses import dataclass, field\n",
    "\n",
    "import control"
   ]
  },
  {
   "attachments": {},
   "cell_type": "markdown",
   "metadata": {},
   "source": [
    "# State Space Model:\n",
    "\n",
    "$$\\frac{dC_A}{dt}=\\frac{F}{V}\\left(C_{A0}-C_A\\right)-k_1(T)C_A\\left(C_A+C_{B0}-C_{A0}\\right)$$\n",
    "\n",
    "$$\\frac{dC_S}{dt}=\\frac{F}{V}\\left(C_{S0}-C_S\\right)-k_2(T)C_S$$\n",
    "\n",
    "$$\\frac{dT}{dt}=\\frac{F}{V}\\left(T_0-T\\right)+\\frac{-\\Delta H_1k_1(T)C_A\\left(C_A+C_{B0}-C_{A0}\\right)-\\Delta H_2k_2(T)C_S}{\\rho C_p}-\\frac{UA\\left(T-T_c\\right)}{V\\rho C_p}$$"
   ]
  },
  {
   "attachments": {},
   "cell_type": "markdown",
   "metadata": {},
   "source": [
    "## Define symbolic state space"
   ]
  },
  {
   "attachments": {},
   "cell_type": "markdown",
   "metadata": {},
   "source": [
    "InletConditions(F_A0=1075, F_S0=750, F_B0=1275, v_0=250.0, C_A0=4.3, C_B0=5.1, C_S0=3.0, F=3100)"
   ]
  },
  {
   "cell_type": "code",
   "execution_count": null,
   "metadata": {},
   "outputs": [],
   "source": [
    "def state_space_zeros(y):\n",
    "    f = y*0\n",
    "\n",
    "    _C_A = y[0]\n",
    "    _T = y[1]\n",
    "\n",
    "    F = 250\n",
    "    V = 4000\n",
    "    C_A0 = 4.3\n",
    "    C_B0 = 5.1\n",
    "    C_S0 = 3\n",
    "    T_0 = 410\n",
    "    rho = 12.4\n",
    "    C_P = 254\n",
    "    U = 14.656e3\n",
    "    A = 5.3\n",
    "    T_c = 373\n",
    "\n",
    "    _k_1 = 4e14 * np.exp(-1.28e5 / _T / 8.314)\n",
    "    _k_2 = 1e84 * np.exp(-8e5 / _T / 8.314)\n",
    "    \n",
    "    _C_S = F / V * C_S0 / (F / V + _k_2)\n",
    "    # _C_S = x[2]\n",
    "    # f[2] = F / V * (C_S0 - _C_S) - _k_2 * _C_S\n",
    "\n",
    "\n",
    "    f[0] = F / V * (C_A0 - _C_A) - _k_1 * _C_A * (_C_A + C_B0 - C_A0)\n",
    "    f[1] = F / V * (T_0 - _T) + (-45400 * _k_1 * _C_A * (_C_A + C_B0 - C_A0) - 3.2e5 * _k_2 * _C_S) / rho / C_P - U * A * (_T - T_c) / rho / C_P / V\n",
    "\n",
    "    return f"
   ]
  },
  {
   "cell_type": "code",
   "execution_count": null,
   "metadata": {},
   "outputs": [],
   "source": [
    "# fsolve(state_space_zeros, [0.27, 0.1])\n",
    "\n",
    "state_space_zeros(np.array([0.27, 460]))"
   ]
  },
  {
   "cell_type": "code",
   "execution_count": 2,
   "metadata": {},
   "outputs": [],
   "source": [
    "# define symbolic state space equations\n",
    "F, V, C_A0, C_A, k_1, T, C_A, C_B0, k_10, R, E_1, E_2, C_S0, C_S, E_2, k_20, H_1, H_2, T_0, T_c, UA, rho, C_p = symbols('F, V, C_A0, C_A, k_1, T, C_A, C_B0, k_10, R, E_1, E_2, C_S0, C_S, E_2, k_20, H_1, H_2, T_0, T_c, UA, rho, C_p')\n",
    "\n",
    "C_As, C_Bs, C_Cs, C_Ss = symbols('C_As, C_Bs, C_Cs, C_Ss')\n",
    "\n",
    "k_1 = k_10 * exp(-E_1 / T / R)\n",
    "k_2 = k_20 * exp(-E_2 / T / R)\n",
    "\n",
    "f_C_A = F / V * (C_A0 - C_A) - k_1 * C_A * (C_A + C_B0 - C_A0)\n",
    "\n",
    "f_C_S = F / V * (C_S0 - C_S) - k_2 * C_S\n",
    "\n",
    "f_T = F / V * (T_0 - T) + (-H_1 * k_1 * C_A * (C_A + C_B0 - C_A0) - H_2 * k_2 * C_S) / (rho * C_p) - (UA * (T - T_c)) / (V * rho * C_p)"
   ]
  },
  {
   "cell_type": "code",
   "execution_count": 3,
   "metadata": {},
   "outputs": [
    {
     "data": {
      "text/latex": [
       "$\\displaystyle \\frac{C_{A0} V k_{10} - C_{B0} V k_{10} - F e^{\\frac{E_{1}}{R T}} - \\sqrt{C_{A0}^{2} V^{2} k_{10}^{2} - 2 C_{A0} C_{B0} V^{2} k_{10}^{2} + 2 C_{A0} F V k_{10} e^{\\frac{E_{1}}{R T}} + C_{B0}^{2} V^{2} k_{10}^{2} + 2 C_{B0} F V k_{10} e^{\\frac{E_{1}}{R T}} + F^{2} e^{\\frac{2 E_{1}}{R T}}}}{2 V k_{10}}$"
      ],
      "text/plain": [
       "(C_A0*V*k_10 - C_B0*V*k_10 - F*exp(E_1/(R*T)) - sqrt(C_A0**2*V**2*k_10**2 - 2*C_A0*C_B0*V**2*k_10**2 + 2*C_A0*F*V*k_10*exp(E_1/(R*T)) + C_B0**2*V**2*k_10**2 + 2*C_B0*F*V*k_10*exp(E_1/(R*T)) + F**2*exp(2*E_1/(R*T))))/(2*V*k_10)"
      ]
     },
     "execution_count": 3,
     "metadata": {},
     "output_type": "execute_result"
    }
   ],
   "source": [
    "_A_eq = Eq(0, f_C_A)\n",
    "\n",
    "C_A_T = solve(_A_eq, C_A)[0]\n",
    "\n",
    "C_A_T"
   ]
  },
  {
   "cell_type": "code",
   "execution_count": 4,
   "metadata": {},
   "outputs": [
    {
     "data": {
      "text/latex": [
       "$\\displaystyle \\frac{C_{S0} F e^{\\frac{E_{2}}{R T}}}{F e^{\\frac{E_{2}}{R T}} + V k_{20}}$"
      ],
      "text/plain": [
       "C_S0*F*exp(E_2/(R*T))/(F*exp(E_2/(R*T)) + V*k_20)"
      ]
     },
     "execution_count": 4,
     "metadata": {},
     "output_type": "execute_result"
    }
   ],
   "source": [
    "_S_eq = Eq(0, f_C_S)\n",
    "\n",
    "C_S_T = solve(_S_eq, C_S)[0]\n",
    "\n",
    "C_S_T"
   ]
  },
  {
   "cell_type": "code",
   "execution_count": null,
   "metadata": {},
   "outputs": [],
   "source": [
    "# def sys(x):\n",
    "#     _T = x\n",
    "\n",
    "#     F = 250\n",
    "#     V = 4000\n",
    "#     C_A0 = 4.3\n",
    "#     C_B0 = 5.1\n",
    "#     C_S0 = 3\n",
    "#     T_0 = 410\n",
    "#     rho = 12.4\n",
    "#     C_P = 254\n",
    "#     U = 14.656e3\n",
    "#     A = 5.3\n",
    "#     T_c = 373\n",
    "#     k_10 = 4e14\n",
    "#     k_20 = 1e84\n",
    "#     E_1 = 1.28e5\n",
    "#     E_2 = 8e5\n",
    "#     _k_1 = 4e14 * np.exp(-1.28e5 / _T / 8.314)\n",
    "#     _k_2 = 1e84 * np.exp(-8e5 / _T / 8.314)\n",
    "#     R = 8.314\n",
    "\n",
    "#     _C_S = (C_S0*F*np.exp(E_2/R/_T))/(F*np.exp(E_2/R/_T)+V*k_20)\n",
    "#     _C_A = (C_A0*V*k_10-C_B0*V*k_10-F*np.exp(E_1/R/_T)-np.sqrt(C_A0**2*V**2*k_10**2-2*C_A0*C_B0*V**2*k_10**2+2*C_A0*F*V*k_10*np.exp(E_1/R/_T)+C_B0**2*V**2*k_10**2+2*C_B0*F*V*k_10*np.exp(E_1/R/_T)+F**2*np.exp(2*E_1/R/_T)))/(2*V*k_10)\n",
    "\n",
    "#     G = (45400*_k_1*_C_A*(_C_A+C_B0-C_A0)+3.2e5*_k_2*_C_S)/(rho*C_P)\n",
    "#     R = F/V*(T_0-_T)-U*A*(_T-T_c)/(V*rho*C_P)\n",
    "\n",
    "#     return G, -R\n",
    "\n",
    "# T_range = np.linspace(410, 600, 100)\n",
    "\n",
    "# G, R = sys(T_range)\n",
    "\n",
    "# plt.plot(T_range, G)\n",
    "# plt.plot(T_range, R)"
   ]
  },
  {
   "attachments": {},
   "cell_type": "markdown",
   "metadata": {},
   "source": [
    "### Verify Equations"
   ]
  },
  {
   "cell_type": "code",
   "execution_count": 5,
   "metadata": {},
   "outputs": [
    {
     "data": {
      "text/latex": [
       "$\\displaystyle - C_{A} k_{10} \\left(C_{A} - C_{A0} + C_{B0}\\right) e^{- \\frac{E_{1}}{R T}} + \\frac{F \\left(- C_{A} + C_{A0}\\right)}{V}$"
      ],
      "text/plain": [
       "-C_A*k_10*(C_A - C_A0 + C_B0)*exp(-E_1/(R*T)) + F*(-C_A + C_A0)/V"
      ]
     },
     "execution_count": 5,
     "metadata": {},
     "output_type": "execute_result"
    }
   ],
   "source": [
    "f_C_A"
   ]
  },
  {
   "cell_type": "code",
   "execution_count": 6,
   "metadata": {},
   "outputs": [
    {
     "data": {
      "text/latex": [
       "$\\displaystyle - C_{S} k_{20} e^{- \\frac{E_{2}}{R T}} + \\frac{F \\left(- C_{S} + C_{S0}\\right)}{V}$"
      ],
      "text/plain": [
       "-C_S*k_20*exp(-E_2/(R*T)) + F*(-C_S + C_S0)/V"
      ]
     },
     "execution_count": 6,
     "metadata": {},
     "output_type": "execute_result"
    }
   ],
   "source": [
    "f_C_S"
   ]
  },
  {
   "cell_type": "code",
   "execution_count": 7,
   "metadata": {},
   "outputs": [
    {
     "data": {
      "text/latex": [
       "$\\displaystyle \\frac{F \\left(- T + T_{0}\\right)}{V} - \\frac{UA \\left(T - T_{c}\\right)}{C_{p} V \\rho} + \\frac{- C_{A} H_{1} k_{10} \\left(C_{A} - C_{A0} + C_{B0}\\right) e^{- \\frac{E_{1}}{R T}} - C_{S} H_{2} k_{20} e^{- \\frac{E_{2}}{R T}}}{C_{p} \\rho}$"
      ],
      "text/plain": [
       "F*(-T + T_0)/V - UA*(T - T_c)/(C_p*V*rho) + (-C_A*H_1*k_10*(C_A - C_A0 + C_B0)*exp(-E_1/(R*T)) - C_S*H_2*k_20*exp(-E_2/(R*T)))/(C_p*rho)"
      ]
     },
     "execution_count": 7,
     "metadata": {},
     "output_type": "execute_result"
    }
   ],
   "source": [
    "f_T"
   ]
  },
  {
   "attachments": {},
   "cell_type": "markdown",
   "metadata": {},
   "source": [
    "# Define system paramters"
   ]
  },
  {
   "attachments": {},
   "cell_type": "markdown",
   "metadata": {},
   "source": [
    "## Classes that define the system"
   ]
  },
  {
   "cell_type": "code",
   "execution_count": 5,
   "metadata": {},
   "outputs": [],
   "source": [
    "# system classes\n",
    "@dataclass\n",
    "class SystemParameters():\n",
    "    k_10: float\n",
    "    E_1: float \n",
    "    k_20: float\n",
    "    E_2: float\n",
    "    H_1: float\n",
    "    H_2: float\n",
    "    rho: float\n",
    "    C_p: float\n",
    "    A: float\n",
    "    T_c: float\n",
    "    V: float\n",
    "\n",
    "@dataclass\n",
    "class InletConditions():\n",
    "    F_A0: float\n",
    "    F_S0: float\n",
    "    F_B0: float\n",
    "    v_0: float = field(init=False)\n",
    "    C_A0: float = field(init=False)\n",
    "    C_B0: float = field(init=False)\n",
    "    C_S0: float = field(init=False)\n",
    "    F: float = field(init=False)\n",
    "\n",
    "    def __post_init__(self):\n",
    "        self.F = self.F_A0 + self.F_B0 + self.F_S0\n",
    "\n",
    "@dataclass\n",
    "class SteadyState():\n",
    "    U_s: float\n",
    "    T_0s: float\n",
    "    C_As: float = field(init=False)\n",
    "    C_Ss: float = field(init=False)\n",
    "    T_s: float = field(init=False)"
   ]
  },
  {
   "attachments": {},
   "cell_type": "markdown",
   "metadata": {},
   "source": [
    "## Initilize classes with given parameters"
   ]
  },
  {
   "cell_type": "code",
   "execution_count": 6,
   "metadata": {},
   "outputs": [],
   "source": [
    "# initialize system classes\n",
    "System_Params = SystemParameters(**{\n",
    "    \"k_10\": 4e14,\n",
    "    \"E_1\": 1.28e5,  \n",
    "    \"k_20\": 1e84,\n",
    "    \"E_2\": 8e5,\n",
    "    \"H_1\": -45400,\n",
    "    \"H_2\": -3.2e5,\n",
    "    \"rho\": 12.4,\n",
    "    \"C_p\": 254,\n",
    "    \"A\": 5.3,\n",
    "    \"T_c\": 373,\n",
    "    \"V\": 4000,\n",
    "})\n",
    "\n",
    "Inlet_Conds = InletConditions(**{\n",
    "    \"F_A0\": 1075,\n",
    "    \"F_S0\": 750,\n",
    "    \"F_B0\": 1275,\n",
    "})\n",
    "\n",
    "Inlet_Conds.v_0 = Inlet_Conds.F / System_Params.rho\n",
    "Inlet_Conds.C_A0 = Inlet_Conds.F_A0 / Inlet_Conds.v_0\n",
    "Inlet_Conds.C_B0 = Inlet_Conds.F_B0 / Inlet_Conds.v_0\n",
    "Inlet_Conds.C_S0 = Inlet_Conds.F_S0 / Inlet_Conds.v_0\n",
    "\n",
    "Steady_States = SteadyState(**{\n",
    "    \"U_s\": 14.656e3,\n",
    "    \"T_0s\": 410,\n",
    "})"
   ]
  },
  {
   "cell_type": "code",
   "execution_count": 10,
   "metadata": {},
   "outputs": [
    {
     "data": {
      "text/plain": [
       "InletConditions(F_A0=1075, F_S0=750, F_B0=1275, v_0=250.0, C_A0=4.3, C_B0=5.1, C_S0=3.0, F=3100)"
      ]
     },
     "execution_count": 10,
     "metadata": {},
     "output_type": "execute_result"
    }
   ],
   "source": [
    "Inlet_Conds"
   ]
  },
  {
   "cell_type": "code",
   "execution_count": 7,
   "metadata": {},
   "outputs": [
    {
     "data": {
      "text/latex": [
       "$\\displaystyle - 0.400000000000003 \\sqrt{4.58984374999993 \\cdot 10^{-15} e^{\\frac{15395.7180659129}{T}} + 3.81469726562495 \\cdot 10^{-32} e^{\\frac{30791.4361318258}{T}} + 1} - 7.8125 \\cdot 10^{-17} e^{\\frac{15395.7180659129}{T}} - 0.4$"
      ],
      "text/plain": [
       "-0.400000000000003*sqrt(4.58984374999993e-15*exp(15395.7180659129/T) + 3.81469726562495e-32*exp(30791.4361318258/T) + 1) - 7.8125e-17*exp(15395.7180659129/T) - 0.4"
      ]
     },
     "execution_count": 7,
     "metadata": {},
     "output_type": "execute_result"
    }
   ],
   "source": [
    "C_A_T_subbed = C_A_T.subs({\n",
    "    C_A0: Inlet_Conds.C_A0,\n",
    "    k_10: System_Params.k_10,\n",
    "    R: 8.314,\n",
    "    F: Inlet_Conds.v_0,\n",
    "    V: System_Params.V,\n",
    "    E_1: System_Params.E_1,\n",
    "    C_S0: Inlet_Conds.C_S0,\n",
    "    k_20: System_Params.k_20,\n",
    "    UA: Steady_States.U_s * System_Params.A,\n",
    "    T_c: System_Params.T_c,\n",
    "    H_1: System_Params.H_1,\n",
    "    H_2: System_Params.H_2,\n",
    "    C_p: System_Params.C_p, \n",
    "    rho: System_Params.rho,\n",
    "    C_B0: Inlet_Conds.C_B0,\n",
    "})\n",
    "\n",
    "C_A_T_subbed"
   ]
  },
  {
   "cell_type": "code",
   "execution_count": 8,
   "metadata": {},
   "outputs": [
    {
     "data": {
      "text/latex": [
       "$\\displaystyle \\frac{750.0 e^{\\frac{0.120279047389945 E_{2}}{T}}}{250.0 e^{\\frac{0.120279047389945 E_{2}}{T}} + 4.0 \\cdot 10^{87}}$"
      ],
      "text/plain": [
       "750.0*exp(0.120279047389945*E_2/T)/(250.0*exp(0.120279047389945*E_2/T) + 4.0e+87)"
      ]
     },
     "execution_count": 8,
     "metadata": {},
     "output_type": "execute_result"
    }
   ],
   "source": [
    "C_S_T_subbed = C_S_T.subs({\n",
    "    C_A0: Inlet_Conds.C_A0,\n",
    "    k_10: System_Params.k_10,\n",
    "    R: 8.314,\n",
    "    F: Inlet_Conds.v_0,\n",
    "    V: System_Params.V,\n",
    "    E_1: System_Params.E_1,\n",
    "    C_S0: Inlet_Conds.C_S0,\n",
    "    k_20: System_Params.k_20,\n",
    "    UA: Steady_States.U_s * System_Params.A,\n",
    "    T_c: System_Params.T_c,\n",
    "    H_1: System_Params.H_1,\n",
    "    H_2: System_Params.H_2,\n",
    "    C_p: System_Params.C_p, \n",
    "    rho: System_Params.rho,\n",
    "    C_B0: Inlet_Conds.C_B0,\n",
    "})\n",
    "\n",
    "C_S_T_subbed"
   ]
  },
  {
   "cell_type": "code",
   "execution_count": 9,
   "metadata": {},
   "outputs": [
    {
     "data": {
      "text/latex": [
       "$\\displaystyle \\frac{- C_{A} H_{1} k_{10} \\left(C_{A} - C_{A0} + C_{B0}\\right) e^{- \\frac{E_{1}}{R T}} - C_{S} H_{2} k_{20} e^{- \\frac{E_{2}}{R T}}}{C_{p} \\rho}$"
      ],
      "text/plain": [
       "(-C_A*H_1*k_10*(C_A - C_A0 + C_B0)*exp(-E_1/(R*T)) - C_S*H_2*k_20*exp(-E_2/(R*T)))/(C_p*rho)"
      ]
     },
     "execution_count": 9,
     "metadata": {},
     "output_type": "execute_result"
    }
   ],
   "source": [
    "R_rxn = F / V * (T_0 - T) - (UA * (T - T_c)) / (V * rho * C_p)\n",
    "G_rxn = (-H_1 * k_1 * C_A * (C_A + C_B0 - C_A0) - H_2 * k_2 * C_S) / (rho * C_p)\n",
    "G_rxn"
   ]
  },
  {
   "cell_type": "code",
   "execution_count": 10,
   "metadata": {},
   "outputs": [
    {
     "data": {
      "text/latex": [
       "$\\displaystyle \\frac{F \\left(- T + T_{0}\\right)}{V} - \\frac{UA \\left(T - T_{c}\\right)}{C_{p} V \\rho}$"
      ],
      "text/plain": [
       "F*(-T + T_0)/V - UA*(T - T_c)/(C_p*V*rho)"
      ]
     },
     "execution_count": 10,
     "metadata": {},
     "output_type": "execute_result"
    }
   ],
   "source": [
    "R_rxn"
   ]
  },
  {
   "cell_type": "code",
   "execution_count": 27,
   "metadata": {},
   "outputs": [],
   "source": [
    "R_subbed = R_rxn.subs({\n",
    "    C_A0: Inlet_Conds.C_A0,\n",
    "    k_10: System_Params.k_10,\n",
    "    R: 8.314,\n",
    "    F: Inlet_Conds.v_0,\n",
    "    V: System_Params.V,\n",
    "    E_1: System_Params.E_1,\n",
    "    C_S0: Inlet_Conds.C_S0,\n",
    "    k_20: System_Params.k_20,\n",
    "    UA: Steady_States.U_s * System_Params.A,\n",
    "    T_c: System_Params.T_c,\n",
    "    H_1: System_Params.H_1,\n",
    "    H_2: System_Params.H_2,\n",
    "    C_p: System_Params.C_p, \n",
    "    rho: System_Params.rho,\n",
    "    C_B0: Inlet_Conds.C_B0,\n",
    "    T_0: Steady_States.T_0s,\n",
    "})\n",
    "\n",
    "G_subbed = G_rxn.subs({\n",
    "    C_A0: Inlet_Conds.C_A0,\n",
    "    k_10: System_Params.k_10,\n",
    "    R: 8.314,\n",
    "    F: Inlet_Conds.v_0,\n",
    "    V: System_Params.V,\n",
    "    E_1: System_Params.E_1,\n",
    "    E_2: System_Params.E_2,\n",
    "    C_S0: Inlet_Conds.C_S0,\n",
    "    k_20: System_Params.k_20,\n",
    "    UA: Steady_States.U_s * System_Params.A,\n",
    "    T_c: System_Params.T_c,\n",
    "    H_1: System_Params.H_1,\n",
    "    H_2: System_Params.H_2,\n",
    "    C_p: System_Params.C_p, \n",
    "    rho: System_Params.rho,\n",
    "    C_B0: Inlet_Conds.C_B0,\n",
    "})"
   ]
  },
  {
   "cell_type": "code",
   "execution_count": 28,
   "metadata": {},
   "outputs": [
    {
     "data": {
      "text/latex": [
       "$\\displaystyle 5.76581153162306 \\cdot 10^{15} C_{A} \\left(C_{A} + 0.8\\right) e^{- \\frac{15395.7180659129}{T}} + 1.01600203200406 \\cdot 10^{86} C_{S} e^{- \\frac{96223.2379119557}{T}}$"
      ],
      "text/plain": [
       "5.76581153162306e+15*C_A*(C_A + 0.8)*exp(-15395.7180659129/T) + 1.01600203200406e+86*C_S*exp(-96223.2379119557/T)"
      ]
     },
     "execution_count": 28,
     "metadata": {},
     "output_type": "execute_result"
    }
   ],
   "source": [
    "G_subbed"
   ]
  },
  {
   "cell_type": "code",
   "execution_count": 16,
   "metadata": {},
   "outputs": [
    {
     "data": {
      "text/latex": [
       "$\\displaystyle 27.9247719075438 - 0.0686656083312167 T$"
      ],
      "text/plain": [
       "27.9247719075438 - 0.0686656083312167*T"
      ]
     },
     "execution_count": 16,
     "metadata": {},
     "output_type": "execute_result"
    }
   ],
   "source": [
    "R_subbed"
   ]
  },
  {
   "cell_type": "code",
   "execution_count": 39,
   "metadata": {},
   "outputs": [
    {
     "data": {
      "text/plain": [
       "[<matplotlib.lines.Line2D at 0x157f95a5910>]"
      ]
     },
     "execution_count": 39,
     "metadata": {},
     "output_type": "execute_result"
    },
    {
     "data": {
      "image/png": "[encoded data removed]",
      "text/plain": [
       "<Figure size 640x480 with 1 Axes>"
      ]
     },
     "metadata": {},
     "output_type": "display_data"
    }
   ],
   "source": [
    "def sys(x):\n",
    "    _T = x\n",
    "\n",
    "    _C_A = C_A_T_subbed.subs({T: _T})\n",
    "    _C_S = C_S_T_subbed.subs({T: _T})\n",
    "\n",
    "    _G = G_subbed.subs({T: _T, C_A: _C_A, C_S: _C_S, E_2: System_Params.E_2})\n",
    "    _R = R_subbed.subs({T: _T, C_A: _C_A, C_S: _C_S})\n",
    "\n",
    "    return _G, _R\n",
    "\n",
    "T_range = np.linspace(400, 500, 100)\n",
    "\n",
    "g, r  = np.zeros(T_range.shape[0]), np.zeros(T_range.shape[0])\n",
    "\n",
    "for i, val in enumerate(T_range):\n",
    "    g[i], r[i] = val, val\n",
    "# print(sys(400))\n",
    "\n",
    "plt.plot(T_range, g)\n",
    "plt.plot(T_range, r)"
   ]
  },
  {
   "attachments": {},
   "cell_type": "markdown",
   "metadata": {},
   "source": [
    "## Substitue parameters into state space"
   ]
  },
  {
   "cell_type": "code",
   "execution_count": 41,
   "metadata": {},
   "outputs": [],
   "source": [
    "# substitute system paramters into state space\n",
    "f_C_A_subbed = f_C_A.subs({\n",
    "    C_A0: Inlet_Conds.C_A0,\n",
    "    k_10: System_Params.k_10,\n",
    "    R: 8.314,\n",
    "    F: Inlet_Conds.v_0,\n",
    "    V: System_Params.V,\n",
    "    E_1: System_Params.E_1,\n",
    "    C_B0: Inlet_Conds.C_B0,\n",
    "})\n",
    "\n",
    "f_C_S_subbed = f_C_S.subs({\n",
    "    C_A0: Inlet_Conds.C_A0,\n",
    "    k_10: System_Params.k_10,\n",
    "    R: 8.314,\n",
    "    F: Inlet_Conds.v_0,\n",
    "    V: System_Params.V,\n",
    "    E_1: System_Params.E_1,\n",
    "    C_S0: Inlet_Conds.C_S0,\n",
    "    k_20: System_Params.k_20,\n",
    "    C_B0: Inlet_Conds.C_B0,\n",
    "})\n",
    "\n",
    "f_T_subbed = f_T.subs({\n",
    "    C_A0: Inlet_Conds.C_A0,\n",
    "    k_10: System_Params.k_10,\n",
    "    R: 8.314,\n",
    "    F: Inlet_Conds.v_0,\n",
    "    V: System_Params.V,\n",
    "    E_1: System_Params.E_1,\n",
    "    C_S0: Inlet_Conds.C_S0,\n",
    "    k_20: System_Params.k_20,\n",
    "    UA: Steady_States.U_s * System_Params.A,\n",
    "    T_c: System_Params.T_c,\n",
    "    H_1: System_Params.H_1,\n",
    "    H_2: System_Params.H_2,\n",
    "    C_p: System_Params.C_p, \n",
    "    rho: System_Params.rho,\n",
    "    C_B0: Inlet_Conds.C_B0,\n",
    "})"
   ]
  },
  {
   "cell_type": "code",
   "execution_count": 45,
   "metadata": {},
   "outputs": [
    {
     "data": {
      "text/latex": [
       "$\\displaystyle - 400000000000000.0 C_{A} \\left(C_{A} + 0.8\\right) e^{- \\frac{15395.7180659129}{T}} - 0.0625 C_{A} + 0.26875$"
      ],
      "text/plain": [
       "-400000000000000.0*C_A*(C_A + 0.8)*exp(-15395.7180659129/T) - 0.0625*C_A + 0.26875"
      ]
     },
     "execution_count": 45,
     "metadata": {},
     "output_type": "execute_result"
    }
   ],
   "source": [
    "f_C_A_subbed"
   ]
  },
  {
   "cell_type": "code",
   "execution_count": null,
   "metadata": {},
   "outputs": [],
   "source": [
    "f_C_S_subbed"
   ]
  },
  {
   "cell_type": "code",
   "execution_count": 44,
   "metadata": {},
   "outputs": [
    {
     "data": {
      "text/latex": [
       "$\\displaystyle 5.76581153162306 \\cdot 10^{15} C_{A} \\left(C_{A} + 0.8\\right) e^{- \\frac{15395.7180659129}{T}} + 1.01600203200406 \\cdot 10^{86} C_{S} e^{- \\frac{0.120279047389945 E_{2}}{T}} - 0.0686656083312167 T + 0.0625 T_{0} + 2.29977190754382$"
      ],
      "text/plain": [
       "5.76581153162306e+15*C_A*(C_A + 0.8)*exp(-15395.7180659129/T) + 1.01600203200406e+86*C_S*exp(-0.120279047389945*E_2/T) - 0.0686656083312167*T + 0.0625*T_0 + 2.29977190754382"
      ]
     },
     "execution_count": 44,
     "metadata": {},
     "output_type": "execute_result"
    }
   ],
   "source": [
    "f_T_subbed"
   ]
  },
  {
   "attachments": {},
   "cell_type": "markdown",
   "metadata": {},
   "source": [
    "# Evaluate steady state"
   ]
  },
  {
   "cell_type": "code",
   "execution_count": null,
   "metadata": {},
   "outputs": [],
   "source": [
    "# steady state evaluation\n",
    "\n",
    "C_S_T = F/V * C_S0 / (F/V + k_2)\n",
    "\n",
    "C_S_T_subbed = C_S_T.subs({\n",
    "    C_A0: Inlet_Conds.C_A0,\n",
    "    k_10: System_Params.k_10,\n",
    "    R: 8.314,\n",
    "    F: Inlet_Conds.v_0,\n",
    "    V: System_Params.V,\n",
    "    E_1: System_Params.E_1,\n",
    "    C_S0: Inlet_Conds.C_S0,\n",
    "    k_20: System_Params.k_20,\n",
    "    C_B0: Inlet_Conds.C_B0,\n",
    "})\n",
    "\n",
    "C_A_T_eq = Eq(0, f_C_A)\n",
    "C_A_T = solve(C_A_T_eq, C_A)\n",
    "C_A_T_subbed = C_A_T[0].subs({\n",
    "    C_A0: Inlet_Conds.C_A0,\n",
    "    k_10: System_Params.k_10,\n",
    "    R: 8.314,\n",
    "    F: Inlet_Conds.v_0,\n",
    "    V: System_Params.V,\n",
    "    E_1: System_Params.E_1,\n",
    "    C_B0: Inlet_Conds.C_B0,\n",
    "})\n",
    "\n",
    "def steady_state_system(x):\n",
    "    f = x*0\n",
    "\n",
    "    _T = x[0]\n",
    "\n",
    "    _C_A = C_A_T_subbed.subs({T: _T})\n",
    "\n",
    "    _C_S = C_S_T_subbed.subs({T: _T})\n",
    "\n",
    "    # f[0] = f_C_A_subbed.subs({C_A: _C_A, C_S: _C_S, T: _T})\n",
    "    f[0] = f_T_subbed.subs({C_A: _C_A, C_S: _C_S, T: _T, T_0: Steady_States.T_0s})\n",
    "\n",
    "    return f\n",
    "\n",
    "def steady_state_system_Jacobian(x):\n",
    "    _C_A = x[0]\n",
    "    _C_S = x[1]\n",
    "    _T = x[2]\n",
    "    \n",
    "    _jac = sympy.matrices.Matrix([\n",
    "        [\n",
    "            f_C_A_subbed.diff(C_A).subs({C_A: _C_A, C_S: _C_S, T: _T}), \n",
    "            f_C_A_subbed.diff(C_S).subs({C_A: _C_A, C_S: _C_S, T: _T}), \n",
    "            f_C_A_subbed.diff(T).subs({C_A: _C_A, C_S: _C_S, T: _T})\n",
    "        ],\n",
    "        [\n",
    "            f_C_S_subbed.diff(C_A).subs({C_A: _C_A, C_S: _C_S, T: _T}), \n",
    "            f_C_S_subbed.diff(C_S).subs({C_A: _C_A, C_S: _C_S, T: _T}), \n",
    "            f_C_S_subbed.diff(T).subs({C_A: _C_A, C_S: _C_S, T: _T})\n",
    "        ],\n",
    "        [\n",
    "            f_T_subbed.diff(C_A).subs({C_A: _C_A, C_S: _C_S, T: _T, T_0: Steady_States.T_0s}), \n",
    "            f_T_subbed.diff(C_S).subs({C_A: _C_A, C_S: _C_S, T: _T, T_0: Steady_States.T_0s}), \n",
    "            f_T_subbed.diff(T).subs({C_A: _C_A, C_S: _C_S, T: _T, T_0: Steady_States.T_0s})\n",
    "        ]\n",
    "    ])\n",
    "\n",
    "    return _jac\n",
    "\n",
    "steady_state_solution = fsolve(steady_state_system, [410])\n",
    "steady_state_solution\n",
    "\n",
    "# steady_state_system(steady_state_solution)"
   ]
  },
  {
   "cell_type": "code",
   "execution_count": null,
   "metadata": {},
   "outputs": [],
   "source": [
    "# save steady states\n",
    "Steady_States.C_As = steady_state_solution[0]\n",
    "Steady_States.C_Ss = steady_state_solution[1]\n",
    "Steady_States.T_s = steady_state_solution[2]\n",
    "Steady_States"
   ]
  },
  {
   "attachments": {},
   "cell_type": "markdown",
   "metadata": {},
   "source": [
    "# Steady state conversion"
   ]
  },
  {
   "cell_type": "code",
   "execution_count": null,
   "metadata": {},
   "outputs": [],
   "source": [
    "# A conversion\n",
    "1 - Steady_States.C_As / Inlet_Conds.C_A0"
   ]
  },
  {
   "cell_type": "code",
   "execution_count": null,
   "metadata": {},
   "outputs": [],
   "source": [
    "# S conversion\n",
    "1 - Steady_States.C_Ss / Inlet_Conds.C_S0"
   ]
  },
  {
   "attachments": {},
   "cell_type": "markdown",
   "metadata": {},
   "source": [
    "### Linearization"
   ]
  },
  {
   "cell_type": "code",
   "execution_count": null,
   "metadata": {},
   "outputs": [],
   "source": [
    "# linear matrices\n",
    "A = sympy.matrices.Matrix([\n",
    "    [\n",
    "        f_C_A_subbed.diff(C_A).subs({C_A: Steady_States.C_As, C_S: Steady_States.C_Ss, T: Steady_States.T_s}), \n",
    "        f_C_A_subbed.diff(C_S).subs({C_A: Steady_States.C_As, C_S: Steady_States.C_Ss, T: Steady_States.T_s}), \n",
    "        f_C_A_subbed.diff(T).subs({C_A: Steady_States.C_As, C_S: Steady_States.C_Ss, T: Steady_States.T_s})\n",
    "    ],\n",
    "    [\n",
    "        f_C_S_subbed.diff(C_A).subs({C_A: Steady_States.C_As, C_S: Steady_States.C_Ss, T: Steady_States.T_s}), \n",
    "        f_C_S_subbed.diff(C_S).subs({C_A: Steady_States.C_As, C_S: Steady_States.C_Ss, T: Steady_States.T_s}), \n",
    "        f_C_S_subbed.diff(T).subs({C_A: Steady_States.C_As, C_S: Steady_States.C_Ss, T: Steady_States.T_s})\n",
    "    ],\n",
    "    [\n",
    "        f_T_subbed.diff(C_A).subs({C_A: Steady_States.C_As, C_S: Steady_States.C_Ss, T: Steady_States.T_s}), \n",
    "        f_T_subbed.diff(C_S).subs({C_A: Steady_States.C_As, C_S: Steady_States.C_Ss, T: Steady_States.T_s}), \n",
    "        f_T_subbed.diff(T).subs({C_A: Steady_States.C_As, C_S: Steady_States.C_Ss, T: Steady_States.T_s})\n",
    "    ],\n",
    "])\n",
    "\n",
    "b = sympy.matrices.Matrix([\n",
    "    [f_C_A_subbed.diff(T_0).subs({C_A: Steady_States.C_As, C_S: Steady_States.C_Ss, T: Steady_States.T_s})],\n",
    "    [f_C_S_subbed.diff(T_0).subs({C_A: Steady_States.C_As, C_S: Steady_States.C_Ss, T: Steady_States.T_s})],\n",
    "    [f_T_subbed.diff(T_0).subs({C_A: Steady_States.C_As, C_S: Steady_States.C_Ss, T: Steady_States.T_s})],\n",
    "])\n",
    "\n",
    "c = sympy.matrices.Matrix([\n",
    "    [0, 0, 1],\n",
    "])\n",
    "\n",
    "d = 0\n",
    "\n",
    "state_vector = sympy.matrices.Matrix([\n",
    "    [C_A],\n",
    "    [C_S],\n",
    "    [T],\n",
    "])"
   ]
  }
 ],
 "metadata": {
  "kernelspec": {
   "display_name": "Python 3",
   "language": "python",
   "name": "python3"
  },
  "language_info": {
   "codemirror_mode": {
    "name": "ipython",
    "version": 3
   },
   "file_extension": ".py",
   "mimetype": "text/x-python",
   "name": "python",
   "nbconvert_exporter": "python",
   "pygments_lexer": "ipython3",
   "version": "3.11.0"
  },
  "orig_nbformat": 4
 },
 "nbformat": 4,
 "nbformat_minor": 2
}
